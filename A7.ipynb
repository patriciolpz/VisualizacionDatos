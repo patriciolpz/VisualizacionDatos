{
 "cells": [
  {
   "cell_type": "markdown",
   "id": "5859b21e-9a0a-4d9d-a7f9-9c66c17db2c0",
   "metadata": {},
   "source": [
    "### A7: Visualización de Datos Multivariante"
   ]
  },
  {
   "cell_type": "code",
   "execution_count": null,
   "id": "f319f298-7254-4d0e-80b0-f5a38861bcc6",
   "metadata": {},
   "outputs": [],
   "source": [
    "#pip install seaborn"
   ]
  },
  {
   "cell_type": "code",
   "execution_count": 4,
   "id": "1c930dfc-90b7-4c29-8971-e9e317e4b403",
   "metadata": {},
   "outputs": [],
   "source": [
    "#pip install statsmodels"
   ]
  },
  {
   "cell_type": "code",
   "execution_count": 6,
   "id": "d5bca8d3-d88f-4d13-817a-30dc4cb0f21b",
   "metadata": {},
   "outputs": [],
   "source": [
    "#pip install sklearn"
   ]
  },
  {
   "cell_type": "code",
   "execution_count": 8,
   "id": "016a41f2-a124-4b39-913a-cc0be9049da9",
   "metadata": {},
   "outputs": [],
   "source": [
    "#pip install plotly"
   ]
  },
  {
   "cell_type": "code",
   "execution_count": 10,
   "id": "f636d3f2-5332-43b7-9f97-88e13efb48fd",
   "metadata": {},
   "outputs": [],
   "source": [
    "import pandas as pd\n",
    "import numpy as np\n",
    "import seaborn as sns\n",
    "import matplotlib as mpl\n",
    "import matplotlib.pyplot as plt\n",
    "import plotly.express as px"
   ]
  },
  {
   "cell_type": "code",
   "execution_count": 11,
   "id": "152bf424-0358-4639-9f68-9748e9f8812c",
   "metadata": {},
   "outputs": [
    {
     "name": "stdout",
     "output_type": "stream",
     "text": [
      " 00_00_binder.ipynb\n",
      " 00_00_primer_pasos.ipynb\n",
      " 01_01_data_types.ipynb\n",
      " 01_02_read_iloc_unique_groupby.ipynb\n",
      " 02_00_data_wrangling.ipynb\n",
      " 02_01_null_display.ipynb\n",
      " 02_02_basic_math.ipynb\n",
      " a01570468_pres_interm.ipynb\n",
      " A5.ipynb\n",
      " adult.csv\n",
      " antropometria-dataset-1.csv\n",
      " antropometria-dataset-2.csv\n",
      " clase1.ipynb\n",
      " Clase3.ipynb\n",
      " Clase4.ipynb\n",
      " Clase5.ipynb\n",
      " Clase7.ipynb\n",
      " Clase8.2.ipynb\n",
      " Clase8.ipynb\n",
      " \u001b[0m\u001b[01;34mdatasets\u001b[0m/\n",
      "'datos multivariante.xlsx'\n",
      " Evolucion-poblacion-ocupada-trabajadores-totales.csv\n",
      " README.md\n",
      " requirements.txt\n",
      " Untitled.ipynb\n"
     ]
    }
   ],
   "source": [
    "%ls"
   ]
  },
  {
   "cell_type": "code",
   "execution_count": 13,
   "id": "e7b3690a-f0d8-4896-ad26-d2c588586d08",
   "metadata": {},
   "outputs": [
    {
     "data": {
      "text/html": [
       "<div>\n",
       "<style scoped>\n",
       "    .dataframe tbody tr th:only-of-type {\n",
       "        vertical-align: middle;\n",
       "    }\n",
       "\n",
       "    .dataframe tbody tr th {\n",
       "        vertical-align: top;\n",
       "    }\n",
       "\n",
       "    .dataframe thead th {\n",
       "        text-align: right;\n",
       "    }\n",
       "</style>\n",
       "<table border=\"1\" class=\"dataframe\">\n",
       "  <thead>\n",
       "    <tr style=\"text-align: right;\">\n",
       "      <th></th>\n",
       "      <th>folio</th>\n",
       "      <th>intp</th>\n",
       "      <th>entidad</th>\n",
       "      <th>desc_ent</th>\n",
       "      <th>sexo</th>\n",
       "      <th>edad</th>\n",
       "      <th>meses</th>\n",
       "      <th>peso</th>\n",
       "      <th>ropa</th>\n",
       "      <th>talla</th>\n",
       "      <th>...</th>\n",
       "      <th>hpresion</th>\n",
       "      <th>tbrazo</th>\n",
       "      <th>htension</th>\n",
       "      <th>PrimaryLast</th>\n",
       "      <th>code_upm</th>\n",
       "      <th>est_dis</th>\n",
       "      <th>est_urb</th>\n",
       "      <th>est_marg</th>\n",
       "      <th>pondef</th>\n",
       "      <th>est_var</th>\n",
       "    </tr>\n",
       "  </thead>\n",
       "  <tbody>\n",
       "    <tr>\n",
       "      <th>0</th>\n",
       "      <td>210295</td>\n",
       "      <td>2</td>\n",
       "      <td>21</td>\n",
       "      <td>PUEBLA</td>\n",
       "      <td>2</td>\n",
       "      <td>38</td>\n",
       "      <td>8</td>\n",
       "      <td>73.70</td>\n",
       "      <td>2</td>\n",
       "      <td>146.4</td>\n",
       "      <td>...</td>\n",
       "      <td>16:30</td>\n",
       "      <td>2</td>\n",
       "      <td>16:35</td>\n",
       "      <td>1</td>\n",
       "      <td>R2101</td>\n",
       "      <td>5</td>\n",
       "      <td>3</td>\n",
       "      <td>1</td>\n",
       "      <td>3470.002176</td>\n",
       "      <td>215</td>\n",
       "    </tr>\n",
       "    <tr>\n",
       "      <th>1</th>\n",
       "      <td>101655</td>\n",
       "      <td>3</td>\n",
       "      <td>10</td>\n",
       "      <td>DURANGO</td>\n",
       "      <td>2</td>\n",
       "      <td>11</td>\n",
       "      <td>11</td>\n",
       "      <td>35.65</td>\n",
       "      <td>2</td>\n",
       "      <td>145.1</td>\n",
       "      <td>...</td>\n",
       "      <td>15:25</td>\n",
       "      <td>3</td>\n",
       "      <td>15:25</td>\n",
       "      <td>1</td>\n",
       "      <td>M1041</td>\n",
       "      <td>1</td>\n",
       "      <td>1</td>\n",
       "      <td>1</td>\n",
       "      <td>417.946672</td>\n",
       "      <td>101</td>\n",
       "    </tr>\n",
       "  </tbody>\n",
       "</table>\n",
       "<p>2 rows × 26 columns</p>\n",
       "</div>"
      ],
      "text/plain": [
       "    folio  intp  entidad desc_ent  sexo  edad  meses   peso  ropa  talla  ...  \\\n",
       "0  210295     2       21   PUEBLA     2    38      8  73.70     2  146.4  ...   \n",
       "1  101655     3       10  DURANGO     2    11     11  35.65     2  145.1  ...   \n",
       "\n",
       "  hpresion tbrazo  htension  PrimaryLast  code_upm  est_dis est_urb est_marg  \\\n",
       "0    16:30      2     16:35            1     R2101        5       3        1   \n",
       "1    15:25      3     15:25            1     M1041        1       1        1   \n",
       "\n",
       "        pondef  est_var  \n",
       "0  3470.002176      215  \n",
       "1   417.946672      101  \n",
       "\n",
       "[2 rows x 26 columns]"
      ]
     },
     "execution_count": 13,
     "metadata": {},
     "output_type": "execute_result"
    }
   ],
   "source": [
    "df = pd.read_csv('antropometria-dataset-1.csv')\n",
    "df.head(2)"
   ]
  },
  {
   "cell_type": "code",
   "execution_count": 15,
   "id": "bff75a49-d684-47a4-aaca-9f7ce6d27da3",
   "metadata": {},
   "outputs": [
    {
     "data": {
      "text/plain": [
       "Index(['folio', 'intp', 'entidad', 'desc_ent', 'sexo', 'edad', 'meses', 'peso',\n",
       "       'ropa', 'talla', 'emb', 'temb', 'cintura', 'cadera', 'sistol',\n",
       "       'diastol', 'hpresion', 'tbrazo', 'htension', 'PrimaryLast', 'code_upm',\n",
       "       'est_dis', 'est_urb', 'est_marg', 'pondef', 'est_var'],\n",
       "      dtype='object')"
      ]
     },
     "execution_count": 15,
     "metadata": {},
     "output_type": "execute_result"
    }
   ],
   "source": [
    "df.columns"
   ]
  },
  {
   "cell_type": "markdown",
   "id": "5b2dd96f-6470-44d3-bead-c36c0a0d2a80",
   "metadata": {},
   "source": [
    "Histogramas de 'Sistol' y 'Diastol'"
   ]
  },
  {
   "cell_type": "code",
   "execution_count": null,
   "id": "a9016dcd-6b83-4497-ae96-43e14954ce89",
   "metadata": {},
   "outputs": [],
   "source": []
  }
 ],
 "metadata": {
  "kernelspec": {
   "display_name": "Python 3 (ipykernel)",
   "language": "python",
   "name": "python3"
  },
  "language_info": {
   "codemirror_mode": {
    "name": "ipython",
    "version": 3
   },
   "file_extension": ".py",
   "mimetype": "text/x-python",
   "name": "python",
   "nbconvert_exporter": "python",
   "pygments_lexer": "ipython3",
   "version": "3.7.12"
  }
 },
 "nbformat": 4,
 "nbformat_minor": 5
}
