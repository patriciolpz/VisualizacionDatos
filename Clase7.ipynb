{
 "cells": [
  {
   "cell_type": "markdown",
   "id": "396f7d36-7a35-4b3d-8c2e-b6a7c89f5e32",
   "metadata": {},
   "source": [
    "### Clase 7: Gráficas de pastel, barras y sunburst"
   ]
  },
  {
   "cell_type": "code",
   "execution_count": 1,
   "id": "41de0409-ed43-42d7-9399-eb48edc2ad5a",
   "metadata": {},
   "outputs": [
    {
     "name": "stdout",
     "output_type": "stream",
     "text": [
      "adult.csv                  census.csv     movies.csv\n",
      "airline_data.csv           coches.csv     nhanes_2015_2016.csv\n",
      "antropometria00.csv        cwurData.csv   pokemon.csv\n",
      "antropometria-dataset.csv  data.csv       sample_pivot.csv\n",
      "Book3.csv                  headbrain.csv  tips.csv\n",
      "Canada.xlsx                mic2.xlsx      weight-height.csv\n",
      "Cartwheeldata.csv          mic.xlsx\n"
     ]
    }
   ],
   "source": [
    "%ls datasets/"
   ]
  },
  {
   "cell_type": "code",
   "execution_count": 2,
   "id": "4a33266c-8ddf-44e7-b02a-549d5e6f283d",
   "metadata": {},
   "outputs": [
    {
     "name": "stdout",
     "output_type": "stream",
     "text": [
      "Requirement already satisfied: openpyxl in /srv/conda/envs/notebook/lib/python3.7/site-packages (3.0.9)\n",
      "Requirement already satisfied: et-xmlfile in /srv/conda/envs/notebook/lib/python3.7/site-packages (from openpyxl) (1.1.0)\n",
      "Note: you may need to restart the kernel to use updated packages.\n"
     ]
    }
   ],
   "source": [
    "pip install openpyxl"
   ]
  },
  {
   "cell_type": "code",
   "execution_count": 3,
   "id": "bbb031a0-b604-4385-9a2a-0a361ca2fce8",
   "metadata": {},
   "outputs": [
    {
     "name": "stdout",
     "output_type": "stream",
     "text": [
      "Requirement already satisfied: seaborn in /srv/conda/envs/notebook/lib/python3.7/site-packages (0.11.2)\n",
      "Requirement already satisfied: pandas>=0.23 in /srv/conda/envs/notebook/lib/python3.7/site-packages (from seaborn) (1.0.4)\n",
      "Requirement already satisfied: numpy>=1.15 in /srv/conda/envs/notebook/lib/python3.7/site-packages (from seaborn) (1.18.5)\n",
      "Requirement already satisfied: matplotlib>=2.2 in /srv/conda/envs/notebook/lib/python3.7/site-packages (from seaborn) (3.2.1)\n",
      "Requirement already satisfied: scipy>=1.0 in /srv/conda/envs/notebook/lib/python3.7/site-packages (from seaborn) (1.4.1)\n",
      "Requirement already satisfied: cycler>=0.10 in /srv/conda/envs/notebook/lib/python3.7/site-packages (from matplotlib>=2.2->seaborn) (0.10.0)\n",
      "Requirement already satisfied: python-dateutil>=2.1 in /srv/conda/envs/notebook/lib/python3.7/site-packages (from matplotlib>=2.2->seaborn) (2.8.1)\n",
      "Requirement already satisfied: kiwisolver>=1.0.1 in /srv/conda/envs/notebook/lib/python3.7/site-packages (from matplotlib>=2.2->seaborn) (1.2.0)\n",
      "Requirement already satisfied: pyparsing!=2.0.4,!=2.1.2,!=2.1.6,>=2.0.1 in /srv/conda/envs/notebook/lib/python3.7/site-packages (from matplotlib>=2.2->seaborn) (2.4.7)\n",
      "Requirement already satisfied: six in /srv/conda/envs/notebook/lib/python3.7/site-packages (from cycler>=0.10->matplotlib>=2.2->seaborn) (1.16.0)\n",
      "Requirement already satisfied: pytz>=2017.2 in /srv/conda/envs/notebook/lib/python3.7/site-packages (from pandas>=0.23->seaborn) (2020.1)\n",
      "Note: you may need to restart the kernel to use updated packages.\n"
     ]
    }
   ],
   "source": [
    "pip install seaborn"
   ]
  },
  {
   "cell_type": "code",
   "execution_count": 4,
   "id": "015a85a4-6da5-432c-a912-ab618f1ef03b",
   "metadata": {},
   "outputs": [
    {
     "name": "stdout",
     "output_type": "stream",
     "text": [
      "Requirement already satisfied: plotly in /srv/conda/envs/notebook/lib/python3.7/site-packages (5.4.0)\n",
      "Requirement already satisfied: six in /srv/conda/envs/notebook/lib/python3.7/site-packages (from plotly) (1.16.0)\n",
      "Requirement already satisfied: tenacity>=6.2.0 in /srv/conda/envs/notebook/lib/python3.7/site-packages (from plotly) (8.0.1)\n",
      "Note: you may need to restart the kernel to use updated packages.\n"
     ]
    }
   ],
   "source": [
    "pip install plotly"
   ]
  },
  {
   "cell_type": "code",
   "execution_count": null,
   "id": "9bff4c89-b919-4100-86d4-4a558949cf79",
   "metadata": {},
   "outputs": [],
   "source": []
  },
  {
   "cell_type": "code",
   "execution_count": 21,
   "id": "1026024b-12ff-40ea-bcc2-b44fb076f065",
   "metadata": {},
   "outputs": [],
   "source": [
    "import pandas as pd\n",
    "import numpy as np\n",
    "import seaborn as sns\n",
    "import matplotlib as mpl\n",
    "import matplotlib.pyplot as plt\n",
    "import plotly.express as px\n"
   ]
  },
  {
   "cell_type": "code",
   "execution_count": 7,
   "id": "ecf92f5f-3f22-4e18-9607-f3bdd737ee08",
   "metadata": {},
   "outputs": [
    {
     "data": {
      "text/html": [
       "<div>\n",
       "<style scoped>\n",
       "    .dataframe tbody tr th:only-of-type {\n",
       "        vertical-align: middle;\n",
       "    }\n",
       "\n",
       "    .dataframe tbody tr th {\n",
       "        vertical-align: top;\n",
       "    }\n",
       "\n",
       "    .dataframe thead th {\n",
       "        text-align: right;\n",
       "    }\n",
       "</style>\n",
       "<table border=\"1\" class=\"dataframe\">\n",
       "  <thead>\n",
       "    <tr style=\"text-align: right;\">\n",
       "      <th></th>\n",
       "      <th>Timestamp</th>\n",
       "      <th>Name</th>\n",
       "      <th>Age</th>\n",
       "      <th>Sex</th>\n",
       "      <th>Ocupation</th>\n",
       "      <th>Monthly income</th>\n",
       "      <th>Price</th>\n",
       "      <th>Quality</th>\n",
       "      <th>Quantity</th>\n",
       "      <th>Availability</th>\n",
       "      <th>...</th>\n",
       "      <th>Overal satisfaction</th>\n",
       "      <th>Consistency</th>\n",
       "      <th>Factor</th>\n",
       "      <th>Frowned</th>\n",
       "      <th>reason</th>\n",
       "      <th>Popular</th>\n",
       "      <th>My favorite</th>\n",
       "      <th>Kind</th>\n",
       "      <th>Preference</th>\n",
       "      <th>Recommend</th>\n",
       "    </tr>\n",
       "  </thead>\n",
       "  <tbody>\n",
       "    <tr>\n",
       "      <th>0</th>\n",
       "      <td>2021-09-24 11:41:37.540</td>\n",
       "      <td>Jobish Vallikavungal Devassia</td>\n",
       "      <td>31 - 40</td>\n",
       "      <td>Male</td>\n",
       "      <td>Research</td>\n",
       "      <td>&gt;40, 000</td>\n",
       "      <td>5</td>\n",
       "      <td>5</td>\n",
       "      <td>5</td>\n",
       "      <td>4</td>\n",
       "      <td>...</td>\n",
       "      <td>4</td>\n",
       "      <td>4</td>\n",
       "      <td>Taste</td>\n",
       "      <td>No</td>\n",
       "      <td>NaN</td>\n",
       "      <td>vanilla, lemon, and mint</td>\n",
       "      <td>Chocolate</td>\n",
       "      <td>More than one flavoured</td>\n",
       "      <td>agree</td>\n",
       "      <td>agree</td>\n",
       "    </tr>\n",
       "    <tr>\n",
       "      <th>1</th>\n",
       "      <td>2021-09-24 11:44:42.933</td>\n",
       "      <td>chikku</td>\n",
       "      <td>21 - 30</td>\n",
       "      <td>Male</td>\n",
       "      <td>student</td>\n",
       "      <td>&lt;10,000</td>\n",
       "      <td>3</td>\n",
       "      <td>5</td>\n",
       "      <td>3</td>\n",
       "      <td>4</td>\n",
       "      <td>...</td>\n",
       "      <td>4</td>\n",
       "      <td>4</td>\n",
       "      <td>Taste</td>\n",
       "      <td>No</td>\n",
       "      <td>Quanity issues</td>\n",
       "      <td>vanilla, chocolate, and strawberry</td>\n",
       "      <td>Chocolate</td>\n",
       "      <td>More than one flavoured</td>\n",
       "      <td>neutral</td>\n",
       "      <td>neutral</td>\n",
       "    </tr>\n",
       "    <tr>\n",
       "      <th>2</th>\n",
       "      <td>2021-09-24 11:49:07.510</td>\n",
       "      <td>Dr Lillykutty Abraham</td>\n",
       "      <td>41 - 50</td>\n",
       "      <td>Female</td>\n",
       "      <td>Teaching</td>\n",
       "      <td>&gt;40, 000</td>\n",
       "      <td>3</td>\n",
       "      <td>4</td>\n",
       "      <td>4</td>\n",
       "      <td>4</td>\n",
       "      <td>...</td>\n",
       "      <td>4</td>\n",
       "      <td>4</td>\n",
       "      <td>Taste</td>\n",
       "      <td>No</td>\n",
       "      <td>NaN</td>\n",
       "      <td>vanilla, chocolate, and strawberry</td>\n",
       "      <td>Caramel</td>\n",
       "      <td>More than one flavoured</td>\n",
       "      <td>disagree</td>\n",
       "      <td>neutral</td>\n",
       "    </tr>\n",
       "    <tr>\n",
       "      <th>3</th>\n",
       "      <td>2021-09-24 21:49:47.576</td>\n",
       "      <td>Joshua</td>\n",
       "      <td>21 - 30</td>\n",
       "      <td>Male</td>\n",
       "      <td>Student</td>\n",
       "      <td>&lt;10,000</td>\n",
       "      <td>5</td>\n",
       "      <td>5</td>\n",
       "      <td>3</td>\n",
       "      <td>4</td>\n",
       "      <td>...</td>\n",
       "      <td>4</td>\n",
       "      <td>4</td>\n",
       "      <td>Taste</td>\n",
       "      <td>No</td>\n",
       "      <td>NaN</td>\n",
       "      <td>vanilla, chocolate, and strawberry</td>\n",
       "      <td>Strawbery</td>\n",
       "      <td>More than one flavoured</td>\n",
       "      <td>agree</td>\n",
       "      <td>agree</td>\n",
       "    </tr>\n",
       "    <tr>\n",
       "      <th>4</th>\n",
       "      <td>2021-09-24 21:53:14.805</td>\n",
       "      <td>Aswathi</td>\n",
       "      <td>21 - 30</td>\n",
       "      <td>Female</td>\n",
       "      <td>Tutor</td>\n",
       "      <td>10,000 - 20,000</td>\n",
       "      <td>5</td>\n",
       "      <td>5</td>\n",
       "      <td>4</td>\n",
       "      <td>4</td>\n",
       "      <td>...</td>\n",
       "      <td>5</td>\n",
       "      <td>5</td>\n",
       "      <td>Quality</td>\n",
       "      <td>No</td>\n",
       "      <td>NaN</td>\n",
       "      <td>vanilla, chocolate, and strawberry</td>\n",
       "      <td>Vanila</td>\n",
       "      <td>single flavoured</td>\n",
       "      <td>agree</td>\n",
       "      <td>Strongly agree</td>\n",
       "    </tr>\n",
       "  </tbody>\n",
       "</table>\n",
       "<p>5 rows × 26 columns</p>\n",
       "</div>"
      ],
      "text/plain": [
       "                Timestamp                           Name      Age     Sex  \\\n",
       "0 2021-09-24 11:41:37.540  Jobish Vallikavungal Devassia  31 - 40    Male   \n",
       "1 2021-09-24 11:44:42.933                         chikku  21 - 30    Male   \n",
       "2 2021-09-24 11:49:07.510          Dr Lillykutty Abraham  41 - 50  Female   \n",
       "3 2021-09-24 21:49:47.576                         Joshua  21 - 30    Male   \n",
       "4 2021-09-24 21:53:14.805                        Aswathi  21 - 30  Female   \n",
       "\n",
       "   Ocupation  Monthly income   Price  Quality  Quantity  Availability  ...  \\\n",
       "0  Research          >40, 000      5        5         5             4  ...   \n",
       "1    student          <10,000      3        5         3             4  ...   \n",
       "2   Teaching         >40, 000      3        4         4             4  ...   \n",
       "3    Student          <10,000      5        5         3             4  ...   \n",
       "4      Tutor  10,000 - 20,000      5        5         4             4  ...   \n",
       "\n",
       "   Overal satisfaction  Consistency   Factor  Frowned          reason  \\\n",
       "0                    4            4    Taste       No             NaN   \n",
       "1                    4            4    Taste       No  Quanity issues   \n",
       "2                    4            4    Taste       No             NaN   \n",
       "3                    4            4    Taste       No             NaN   \n",
       "4                    5            5  Quality       No             NaN   \n",
       "\n",
       "                             Popular   My favorite                     Kind  \\\n",
       "0            vanilla, lemon, and mint    Chocolate  More than one flavoured   \n",
       "1  vanilla, chocolate, and strawberry    Chocolate  More than one flavoured   \n",
       "2  vanilla, chocolate, and strawberry      Caramel  More than one flavoured   \n",
       "3  vanilla, chocolate, and strawberry    Strawbery  More than one flavoured   \n",
       "4  vanilla, chocolate, and strawberry       Vanila         single flavoured   \n",
       "\n",
       "  Preference       Recommend  \n",
       "0      agree           agree  \n",
       "1    neutral         neutral  \n",
       "2   disagree         neutral  \n",
       "3      agree           agree  \n",
       "4      agree  Strongly agree  \n",
       "\n",
       "[5 rows x 26 columns]"
      ]
     },
     "execution_count": 7,
     "metadata": {},
     "output_type": "execute_result"
    }
   ],
   "source": [
    "df = pd.read_excel('datasets/mic.xlsx',\n",
    "                   engine = 'openpyxl'\n",
    "                  )\n",
    "df.head()"
   ]
  },
  {
   "cell_type": "code",
   "execution_count": 8,
   "id": "c482f394-9670-4d0d-9bb0-8c0552a7ac1c",
   "metadata": {},
   "outputs": [
    {
     "data": {
      "text/html": [
       "<div>\n",
       "<style scoped>\n",
       "    .dataframe tbody tr th:only-of-type {\n",
       "        vertical-align: middle;\n",
       "    }\n",
       "\n",
       "    .dataframe tbody tr th {\n",
       "        vertical-align: top;\n",
       "    }\n",
       "\n",
       "    .dataframe thead th {\n",
       "        text-align: right;\n",
       "    }\n",
       "</style>\n",
       "<table border=\"1\" class=\"dataframe\">\n",
       "  <thead>\n",
       "    <tr style=\"text-align: right;\">\n",
       "      <th></th>\n",
       "      <th>Age</th>\n",
       "    </tr>\n",
       "  </thead>\n",
       "  <tbody>\n",
       "    <tr>\n",
       "      <th>21 - 30</th>\n",
       "      <td>37</td>\n",
       "    </tr>\n",
       "    <tr>\n",
       "      <th>&lt;=20</th>\n",
       "      <td>6</td>\n",
       "    </tr>\n",
       "    <tr>\n",
       "      <th>31 - 40</th>\n",
       "      <td>4</td>\n",
       "    </tr>\n",
       "    <tr>\n",
       "      <th>41 - 50</th>\n",
       "      <td>3</td>\n",
       "    </tr>\n",
       "  </tbody>\n",
       "</table>\n",
       "</div>"
      ],
      "text/plain": [
       "         Age\n",
       "21 - 30   37\n",
       "<=20       6\n",
       "31 - 40    4\n",
       "41 - 50    3"
      ]
     },
     "execution_count": 8,
     "metadata": {},
     "output_type": "execute_result"
    }
   ],
   "source": [
    "counts = df['Age'].value_counts()\n",
    "type(counts)#es dificil trabajar con el tipo de dato \"series\"\n",
    "counts = counts.to_frame() #convertir a tabla\n",
    "type(counts)\n",
    "\n",
    "counts"
   ]
  },
  {
   "cell_type": "code",
   "execution_count": 9,
   "id": "c5814bdf-ee1e-4912-af0b-a5ee537257fe",
   "metadata": {},
   "outputs": [
    {
     "data": {
      "text/html": [
       "<div>\n",
       "<style scoped>\n",
       "    .dataframe tbody tr th:only-of-type {\n",
       "        vertical-align: middle;\n",
       "    }\n",
       "\n",
       "    .dataframe tbody tr th {\n",
       "        vertical-align: top;\n",
       "    }\n",
       "\n",
       "    .dataframe thead th {\n",
       "        text-align: right;\n",
       "    }\n",
       "</style>\n",
       "<table border=\"1\" class=\"dataframe\">\n",
       "  <thead>\n",
       "    <tr style=\"text-align: right;\">\n",
       "      <th></th>\n",
       "      <th>Age</th>\n",
       "      <th>%</th>\n",
       "    </tr>\n",
       "  </thead>\n",
       "  <tbody>\n",
       "    <tr>\n",
       "      <th>21 - 30</th>\n",
       "      <td>37</td>\n",
       "      <td>74.0</td>\n",
       "    </tr>\n",
       "    <tr>\n",
       "      <th>&lt;=20</th>\n",
       "      <td>6</td>\n",
       "      <td>12.0</td>\n",
       "    </tr>\n",
       "    <tr>\n",
       "      <th>31 - 40</th>\n",
       "      <td>4</td>\n",
       "      <td>8.0</td>\n",
       "    </tr>\n",
       "    <tr>\n",
       "      <th>41 - 50</th>\n",
       "      <td>3</td>\n",
       "      <td>6.0</td>\n",
       "    </tr>\n",
       "  </tbody>\n",
       "</table>\n",
       "</div>"
      ],
      "text/plain": [
       "         Age     %\n",
       "21 - 30   37  74.0\n",
       "<=20       6  12.0\n",
       "31 - 40    4   8.0\n",
       "41 - 50    3   6.0"
      ]
     },
     "execution_count": 9,
     "metadata": {},
     "output_type": "execute_result"
    }
   ],
   "source": [
    "counts['%'] = (counts.loc[:, 'Age']/counts.loc[:, 'Age'].sum(axis = 0))*100\n",
    "counts"
   ]
  },
  {
   "cell_type": "code",
   "execution_count": 10,
   "id": "8128e422-9da4-4a14-aff7-28e4548ac6f4",
   "metadata": {},
   "outputs": [
    {
     "data": {
      "text/html": [
       "<div>\n",
       "<style scoped>\n",
       "    .dataframe tbody tr th:only-of-type {\n",
       "        vertical-align: middle;\n",
       "    }\n",
       "\n",
       "    .dataframe tbody tr th {\n",
       "        vertical-align: top;\n",
       "    }\n",
       "\n",
       "    .dataframe thead th {\n",
       "        text-align: right;\n",
       "    }\n",
       "</style>\n",
       "<table border=\"1\" class=\"dataframe\">\n",
       "  <thead>\n",
       "    <tr style=\"text-align: right;\">\n",
       "      <th></th>\n",
       "      <th>Age</th>\n",
       "      <th>%</th>\n",
       "    </tr>\n",
       "  </thead>\n",
       "  <tbody>\n",
       "    <tr>\n",
       "      <th>&lt;=20</th>\n",
       "      <td>6</td>\n",
       "      <td>12.0</td>\n",
       "    </tr>\n",
       "    <tr>\n",
       "      <th>21 - 30</th>\n",
       "      <td>37</td>\n",
       "      <td>74.0</td>\n",
       "    </tr>\n",
       "    <tr>\n",
       "      <th>31 - 40</th>\n",
       "      <td>4</td>\n",
       "      <td>8.0</td>\n",
       "    </tr>\n",
       "    <tr>\n",
       "      <th>41 - 50</th>\n",
       "      <td>3</td>\n",
       "      <td>6.0</td>\n",
       "    </tr>\n",
       "  </tbody>\n",
       "</table>\n",
       "</div>"
      ],
      "text/plain": [
       "         Age     %\n",
       "<=20       6  12.0\n",
       "21 - 30   37  74.0\n",
       "31 - 40    4   8.0\n",
       "41 - 50    3   6.0"
      ]
     },
     "execution_count": 10,
     "metadata": {},
     "output_type": "execute_result"
    }
   ],
   "source": [
    "counts = counts.reindex(['<=20', '21 - 30', '31 - 40', '41 - 50'])\n",
    "counts"
   ]
  },
  {
   "cell_type": "code",
   "execution_count": 11,
   "id": "2e4cda80-33b1-4a07-9279-0864c8a0b7be",
   "metadata": {},
   "outputs": [
    {
     "data": {
      "text/html": [
       "<div>\n",
       "<style scoped>\n",
       "    .dataframe tbody tr th:only-of-type {\n",
       "        vertical-align: middle;\n",
       "    }\n",
       "\n",
       "    .dataframe tbody tr th {\n",
       "        vertical-align: top;\n",
       "    }\n",
       "\n",
       "    .dataframe thead th {\n",
       "        text-align: right;\n",
       "    }\n",
       "</style>\n",
       "<table border=\"1\" class=\"dataframe\">\n",
       "  <thead>\n",
       "    <tr style=\"text-align: right;\">\n",
       "      <th></th>\n",
       "      <th>index</th>\n",
       "      <th>Age</th>\n",
       "      <th>%</th>\n",
       "    </tr>\n",
       "  </thead>\n",
       "  <tbody>\n",
       "    <tr>\n",
       "      <th>0</th>\n",
       "      <td>&lt;=20</td>\n",
       "      <td>6</td>\n",
       "      <td>12.0</td>\n",
       "    </tr>\n",
       "    <tr>\n",
       "      <th>1</th>\n",
       "      <td>21 - 30</td>\n",
       "      <td>37</td>\n",
       "      <td>74.0</td>\n",
       "    </tr>\n",
       "    <tr>\n",
       "      <th>2</th>\n",
       "      <td>31 - 40</td>\n",
       "      <td>4</td>\n",
       "      <td>8.0</td>\n",
       "    </tr>\n",
       "    <tr>\n",
       "      <th>3</th>\n",
       "      <td>41 - 50</td>\n",
       "      <td>3</td>\n",
       "      <td>6.0</td>\n",
       "    </tr>\n",
       "  </tbody>\n",
       "</table>\n",
       "</div>"
      ],
      "text/plain": [
       "     index  Age     %\n",
       "0     <=20    6  12.0\n",
       "1  21 - 30   37  74.0\n",
       "2  31 - 40    4   8.0\n",
       "3  41 - 50    3   6.0"
      ]
     },
     "execution_count": 11,
     "metadata": {},
     "output_type": "execute_result"
    }
   ],
   "source": [
    "counts = counts.reset_index()\n",
    "counts"
   ]
  },
  {
   "cell_type": "code",
   "execution_count": 12,
   "id": "a29e2567-9538-49b9-a994-78541bd81948",
   "metadata": {},
   "outputs": [
    {
     "data": {
      "text/html": [
       "<div>\n",
       "<style scoped>\n",
       "    .dataframe tbody tr th:only-of-type {\n",
       "        vertical-align: middle;\n",
       "    }\n",
       "\n",
       "    .dataframe tbody tr th {\n",
       "        vertical-align: top;\n",
       "    }\n",
       "\n",
       "    .dataframe thead th {\n",
       "        text-align: right;\n",
       "    }\n",
       "</style>\n",
       "<table border=\"1\" class=\"dataframe\">\n",
       "  <thead>\n",
       "    <tr style=\"text-align: right;\">\n",
       "      <th></th>\n",
       "      <th>Age_group</th>\n",
       "      <th>Age</th>\n",
       "      <th>%</th>\n",
       "    </tr>\n",
       "  </thead>\n",
       "  <tbody>\n",
       "    <tr>\n",
       "      <th>0</th>\n",
       "      <td>&lt;=20</td>\n",
       "      <td>6</td>\n",
       "      <td>12.0</td>\n",
       "    </tr>\n",
       "    <tr>\n",
       "      <th>1</th>\n",
       "      <td>21 - 30</td>\n",
       "      <td>37</td>\n",
       "      <td>74.0</td>\n",
       "    </tr>\n",
       "    <tr>\n",
       "      <th>2</th>\n",
       "      <td>31 - 40</td>\n",
       "      <td>4</td>\n",
       "      <td>8.0</td>\n",
       "    </tr>\n",
       "    <tr>\n",
       "      <th>3</th>\n",
       "      <td>41 - 50</td>\n",
       "      <td>3</td>\n",
       "      <td>6.0</td>\n",
       "    </tr>\n",
       "  </tbody>\n",
       "</table>\n",
       "</div>"
      ],
      "text/plain": [
       "  Age_group  Age     %\n",
       "0      <=20    6  12.0\n",
       "1   21 - 30   37  74.0\n",
       "2   31 - 40    4   8.0\n",
       "3   41 - 50    3   6.0"
      ]
     },
     "execution_count": 12,
     "metadata": {},
     "output_type": "execute_result"
    }
   ],
   "source": [
    "counts = counts.rename({'index': 'Age_group'},\n",
    "                       axis = 1\n",
    "                      )\n",
    "counts"
   ]
  },
  {
   "cell_type": "code",
   "execution_count": null,
   "id": "be9a8fad-39f3-4b27-a3c9-a4ffae7f9324",
   "metadata": {},
   "outputs": [],
   "source": []
  },
  {
   "cell_type": "code",
   "execution_count": 32,
   "id": "e2512443-27df-4338-ae93-83b56b778668",
   "metadata": {},
   "outputs": [
    {
     "data": {
      "text/plain": [
       "<matplotlib.legend.Legend at 0x7fad7a6c7f50>"
      ]
     },
     "execution_count": 32,
     "metadata": {},
     "output_type": "execute_result"
    },
    {
     "data": {
      "image/png": "[encoded data removed]",
      "text/plain": [
       "<Figure size 1080x432 with 1 Axes>"
      ]
     },
     "metadata": {},
     "output_type": "display_data"
    }
   ],
   "source": [
    "color_list = ['khaki', 'yellowgreen', 'coral', 'skyblue']\n",
    "explode_list = [0.03, 0.04, 0.06, 0.05]\n",
    "\n",
    "counts['Age'].plot(kind = 'pie',\n",
    "                  figsize = (15,6),\n",
    "                  startangle = 90,\n",
    "                  labels = None,\n",
    "                  autopct = '%1.1f%%',\n",
    "                  pctdistance = 1.1,\n",
    "                   colors = color_list,\n",
    "                   explode = explode_list,\n",
    "                   shadow = True\n",
    "                  )\n",
    "plt.title('Pie chart de Age group', fontsize = 14)\n",
    "plt.legend(labels = counts.Age_group,\n",
    "          bbox_to_anchor = (1.0, 1.0)\n",
    "          )"
   ]
  },
  {
   "cell_type": "code",
   "execution_count": 45,
   "id": "4902c6f9-17ec-488e-92f4-1aa9f64f7076",
   "metadata": {},
   "outputs": [
    {
     "data": {
      "image/png": "[encoded data removed]",
      "text/plain": [
       "<Figure size 432x288 with 1 Axes>"
      ]
     },
     "metadata": {
      "needs_background": "light"
     },
     "output_type": "display_data"
    }
   ],
   "source": [
    "x = list(counts['Age_group'])\n",
    "y = list(counts['Age'])\n",
    "    \n",
    "plt.bar(x,y, width = 0.8, color = 'firebrick')\n",
    "plt.title('Gráfica de barras de Age_group', fontsize = 14)\n",
    "plt.show()"
   ]
  },
  {
   "cell_type": "code",
   "execution_count": 46,
   "id": "82b577fc-c4df-4306-8c7d-8b6ee3812938",
   "metadata": {},
   "outputs": [
    {
     "data": {
      "image/png": "[encoded data removed]",
      "text/plain": [
       "<Figure size 1080x432 with 2 Axes>"
      ]
     },
     "metadata": {
      "needs_background": "light"
     },
     "output_type": "display_data"
    }
   ],
   "source": [
    "plt.subplot(1,2,1)\n",
    "color_list = ['khaki', 'yellowgreen', 'coral', 'skyblue']\n",
    "explode_list = [0.03, 0.04, 0.06, 0.05]\n",
    "\n",
    "counts['Age'].plot(kind = 'pie',\n",
    "                  figsize = (15,6),\n",
    "                  startangle = 90,\n",
    "                  labels = None,\n",
    "                  autopct = '%1.1f%%',\n",
    "                  pctdistance = 1.1,\n",
    "                   colors = color_list,\n",
    "                   explode = explode_list,\n",
    "                   shadow = True\n",
    "                  )\n",
    "plt.title('Pie chart de Age_group', fontsize = 14)\n",
    "plt.legend(labels = counts.Age_group,\n",
    "          bbox_to_anchor = (0.9, 1.0)\n",
    "          )\n",
    "\n",
    "plt.subplot(1,2,2)\n",
    "x = list(counts['Age_group'])\n",
    "y = list(counts['Age'])\n",
    "\n",
    "plt.bar(x,y, width = 0.8, color = 'coral')\n",
    "plt.title('Gráfica de barras de Age_group', fontsize = 14)\n",
    "\n",
    "\n",
    "plt.savefig('outputs/Age_group.png') #GUARDAR COMO IMAGEN PNG\n",
    "plt.show()"
   ]
  },
  {
   "cell_type": "code",
   "execution_count": 52,
   "id": "16f9c3c5-4f43-4fd6-a0ee-d52c82e8dde8",
   "metadata": {},
   "outputs": [
    {
     "data": {
      "text/html": [
       "<div>\n",
       "<style scoped>\n",
       "    .dataframe tbody tr th:only-of-type {\n",
       "        vertical-align: middle;\n",
       "    }\n",
       "\n",
       "    .dataframe tbody tr th {\n",
       "        vertical-align: top;\n",
       "    }\n",
       "\n",
       "    .dataframe thead th {\n",
       "        text-align: right;\n",
       "    }\n",
       "</style>\n",
       "<table border=\"1\" class=\"dataframe\">\n",
       "  <thead>\n",
       "    <tr style=\"text-align: right;\">\n",
       "      <th></th>\n",
       "      <th></th>\n",
       "      <th>Availability</th>\n",
       "    </tr>\n",
       "    <tr>\n",
       "      <th>Age</th>\n",
       "      <th>Sex</th>\n",
       "      <th></th>\n",
       "    </tr>\n",
       "  </thead>\n",
       "  <tbody>\n",
       "    <tr>\n",
       "      <th rowspan=\"2\" valign=\"top\">21 - 30</th>\n",
       "      <th>Female</th>\n",
       "      <td>15</td>\n",
       "    </tr>\n",
       "    <tr>\n",
       "      <th>Male</th>\n",
       "      <td>22</td>\n",
       "    </tr>\n",
       "    <tr>\n",
       "      <th rowspan=\"2\" valign=\"top\">31 - 40</th>\n",
       "      <th>Female</th>\n",
       "      <td>2</td>\n",
       "    </tr>\n",
       "    <tr>\n",
       "      <th>Male</th>\n",
       "      <td>2</td>\n",
       "    </tr>\n",
       "    <tr>\n",
       "      <th rowspan=\"2\" valign=\"top\">41 - 50</th>\n",
       "      <th>Female</th>\n",
       "      <td>2</td>\n",
       "    </tr>\n",
       "    <tr>\n",
       "      <th>Male</th>\n",
       "      <td>1</td>\n",
       "    </tr>\n",
       "    <tr>\n",
       "      <th rowspan=\"2\" valign=\"top\">&lt;=20</th>\n",
       "      <th>Female</th>\n",
       "      <td>3</td>\n",
       "    </tr>\n",
       "    <tr>\n",
       "      <th>Male</th>\n",
       "      <td>3</td>\n",
       "    </tr>\n",
       "  </tbody>\n",
       "</table>\n",
       "</div>"
      ],
      "text/plain": [
       "                Availability\n",
       "Age     Sex                 \n",
       "21 - 30 Female            15\n",
       "        Male              22\n",
       "31 - 40 Female             2\n",
       "        Male               2\n",
       "41 - 50 Female             2\n",
       "        Male               1\n",
       "<=20    Female             3\n",
       "        Male               3"
      ]
     },
     "execution_count": 52,
     "metadata": {},
     "output_type": "execute_result"
    }
   ],
   "source": [
    "age_genero = pd.pivot_table(index = ['Age', 'Sex'],\n",
    "                            data = df,\n",
    "                            aggfunc = len,\n",
    "                            values = 'Availability')\n",
    "age_genero"
   ]
  },
  {
   "cell_type": "code",
   "execution_count": 54,
   "id": "3acfa424-f55b-49b2-a87e-5e978bfb655a",
   "metadata": {},
   "outputs": [
    {
     "data": {
      "text/html": [
       "<div>\n",
       "<style scoped>\n",
       "    .dataframe tbody tr th:only-of-type {\n",
       "        vertical-align: middle;\n",
       "    }\n",
       "\n",
       "    .dataframe tbody tr th {\n",
       "        vertical-align: top;\n",
       "    }\n",
       "\n",
       "    .dataframe thead th {\n",
       "        text-align: right;\n",
       "    }\n",
       "</style>\n",
       "<table border=\"1\" class=\"dataframe\">\n",
       "  <thead>\n",
       "    <tr style=\"text-align: right;\">\n",
       "      <th></th>\n",
       "      <th></th>\n",
       "      <th>Counts</th>\n",
       "      <th>%</th>\n",
       "    </tr>\n",
       "    <tr>\n",
       "      <th>Age</th>\n",
       "      <th>Sex</th>\n",
       "      <th></th>\n",
       "      <th></th>\n",
       "    </tr>\n",
       "  </thead>\n",
       "  <tbody>\n",
       "    <tr>\n",
       "      <th rowspan=\"2\" valign=\"top\">21 - 30</th>\n",
       "      <th>Female</th>\n",
       "      <td>15</td>\n",
       "      <td>30.0</td>\n",
       "    </tr>\n",
       "    <tr>\n",
       "      <th>Male</th>\n",
       "      <td>22</td>\n",
       "      <td>44.0</td>\n",
       "    </tr>\n",
       "    <tr>\n",
       "      <th rowspan=\"2\" valign=\"top\">31 - 40</th>\n",
       "      <th>Female</th>\n",
       "      <td>2</td>\n",
       "      <td>4.0</td>\n",
       "    </tr>\n",
       "    <tr>\n",
       "      <th>Male</th>\n",
       "      <td>2</td>\n",
       "      <td>4.0</td>\n",
       "    </tr>\n",
       "    <tr>\n",
       "      <th rowspan=\"2\" valign=\"top\">41 - 50</th>\n",
       "      <th>Female</th>\n",
       "      <td>2</td>\n",
       "      <td>4.0</td>\n",
       "    </tr>\n",
       "    <tr>\n",
       "      <th>Male</th>\n",
       "      <td>1</td>\n",
       "      <td>2.0</td>\n",
       "    </tr>\n",
       "    <tr>\n",
       "      <th rowspan=\"2\" valign=\"top\">&lt;=20</th>\n",
       "      <th>Female</th>\n",
       "      <td>3</td>\n",
       "      <td>6.0</td>\n",
       "    </tr>\n",
       "    <tr>\n",
       "      <th>Male</th>\n",
       "      <td>3</td>\n",
       "      <td>6.0</td>\n",
       "    </tr>\n",
       "  </tbody>\n",
       "</table>\n",
       "</div>"
      ],
      "text/plain": [
       "                Counts     %\n",
       "Age     Sex                 \n",
       "21 - 30 Female      15  30.0\n",
       "        Male        22  44.0\n",
       "31 - 40 Female       2   4.0\n",
       "        Male         2   4.0\n",
       "41 - 50 Female       2   4.0\n",
       "        Male         1   2.0\n",
       "<=20    Female       3   6.0\n",
       "        Male         3   6.0"
      ]
     },
     "execution_count": 54,
     "metadata": {},
     "output_type": "execute_result"
    }
   ],
   "source": [
    "counts = df.groupby(['Age', 'Sex']).size()\n",
    "counts = counts.to_frame()\n",
    "\n",
    "counts['%'] = (counts.iloc[:, 0]/counts.iloc[:, 0].sum(axis = 0))*100\n",
    "counts = counts.rename(columns = {0: 'Counts'})\n",
    "counts\n",
    "\n",
    "#ESTO ES LA FORMA MANUAL DE HACER UNA PIVOT TABLE"
   ]
  },
  {
   "cell_type": "code",
   "execution_count": 64,
   "id": "c88bdaef-fc11-4863-95d8-d360a9f40e8b",
   "metadata": {},
   "outputs": [
    {
     "data": {
      "image/png": "[encoded data removed]",
      "text/plain": [
       "<Figure size 432.125x360 with 1 Axes>"
      ]
     },
     "metadata": {
      "needs_background": "light"
     },
     "output_type": "display_data"
    }
   ],
   "source": [
    "category_plot = sns.catplot(x = 'Age',\n",
    "                            hue = 'Sex',\n",
    "                            data = df,\n",
    "                            kind = 'count')\n",
    "\n",
    "plt.xlabel('Age group', fontsize = 14)\n",
    "plt.xticks(fontsize = 10)\n",
    "plt.title('Age group por Sex', fontsize = 17)\n",
    "plt.show()"
   ]
  },
  {
   "cell_type": "code",
   "execution_count": null,
   "id": "9f4ef117-9ebe-4122-a187-c4e11e740749",
   "metadata": {},
   "outputs": [],
   "source": [
    "fig = px.Sunburst(counts,\n",
    "                  parents = ['Age', 'Sex'],\n",
    "                  values = 'Counts',\n",
    "                 )\n",
    "fig.show()"
   ]
  },
  {
   "cell_type": "code",
   "execution_count": null,
   "id": "ed4351ac-ac03-478d-8885-581446f06f0b",
   "metadata": {},
   "outputs": [],
   "source": []
  }
 ],
 "metadata": {
  "kernelspec": {
   "display_name": "Python 3 (ipykernel)",
   "language": "python",
   "name": "python3"
  },
  "language_info": {
   "codemirror_mode": {
    "name": "ipython",
    "version": 3
   },
   "file_extension": ".py",
   "mimetype": "text/x-python",
   "name": "python",
   "nbconvert_exporter": "python",
   "pygments_lexer": "ipython3",
   "version": "3.7.10"
  }
 },
 "nbformat": 4,
 "nbformat_minor": 5
}
