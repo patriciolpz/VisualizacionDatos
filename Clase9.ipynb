{
 "cells": [
  {
   "cell_type": "markdown",
   "id": "077371a3-c774-4b67-a0ec-bc1306de3023",
   "metadata": {},
   "source": [
    "### Clase 9.1: Regresión simple, múltiple..."
   ]
  },
  {
   "cell_type": "markdown",
   "id": "d2b01a83-314d-48f0-a518-b89eaa335563",
   "metadata": {},
   "source": [
    "Y formato para la entrega final"
   ]
  },
  {
   "cell_type": "code",
   "execution_count": 1,
   "id": "fa2ee9bc-3904-4e50-9589-4d0f1f951104",
   "metadata": {},
   "outputs": [
    {
     "name": "stdout",
     "output_type": "stream",
     "text": [
      " 00_00_binder.ipynb\n",
      " 00_00_primer_pasos.ipynb\n",
      " 01_01_data_types.ipynb\n",
      " 01_02_read_iloc_unique_groupby.ipynb\n",
      " 02_00_data_wrangling.ipynb\n",
      " 02_01_null_display.ipynb\n",
      " 02_02_basic_math.ipynb\n",
      " a01570468_pres_interm.ipynb\n",
      " A5.ipynb\n",
      " A7.ipynb\n",
      " adult.csv\n",
      " antropometria-dataset-1.csv\n",
      " antropometria-dataset-2.csv\n",
      " clase1.ipynb\n",
      " Clase3.ipynb\n",
      " Clase4.ipynb\n",
      " Clase5.ipynb\n",
      " Clase7.ipynb\n",
      " Clase8.2.ipynb\n",
      " Clase8.ipynb\n",
      " Clase9.ipynb\n",
      " \u001b[0m\u001b[01;34mdatasets\u001b[0m/\n",
      "'datos multivariante.xlsx'\n",
      " Evolucion-poblacion-ocupada-trabajadores-totales.csv\n",
      " README.md\n",
      " reg_data.csv\n",
      " requirements.txt\n"
     ]
    }
   ],
   "source": [
    "%ls"
   ]
  },
  {
   "cell_type": "code",
   "execution_count": 2,
   "id": "e00351c1-5da9-4c92-85d8-469137705582",
   "metadata": {},
   "outputs": [],
   "source": [
    "import pandas as pd"
   ]
  },
  {
   "cell_type": "code",
   "execution_count": 3,
   "id": "a1f4f36f-a064-4d63-babb-fcb3ee9268a6",
   "metadata": {},
   "outputs": [
    {
     "data": {
      "text/html": [
       "<div>\n",
       "<style scoped>\n",
       "    .dataframe tbody tr th:only-of-type {\n",
       "        vertical-align: middle;\n",
       "    }\n",
       "\n",
       "    .dataframe tbody tr th {\n",
       "        vertical-align: top;\n",
       "    }\n",
       "\n",
       "    .dataframe thead th {\n",
       "        text-align: right;\n",
       "    }\n",
       "</style>\n",
       "<table border=\"1\" class=\"dataframe\">\n",
       "  <thead>\n",
       "    <tr style=\"text-align: right;\">\n",
       "      <th></th>\n",
       "      <th>Gender</th>\n",
       "      <th>Salary</th>\n",
       "      <th>Age</th>\n",
       "      <th>Place</th>\n",
       "      <th>Weight</th>\n",
       "      <th>Company</th>\n",
       "      <th>Academic_degree</th>\n",
       "    </tr>\n",
       "  </thead>\n",
       "  <tbody>\n",
       "    <tr>\n",
       "      <th>0</th>\n",
       "      <td>Female</td>\n",
       "      <td>1500</td>\n",
       "      <td>33</td>\n",
       "      <td>Chicago</td>\n",
       "      <td>80.0</td>\n",
       "      <td>BMW</td>\n",
       "      <td>Bachelor</td>\n",
       "    </tr>\n",
       "    <tr>\n",
       "      <th>1</th>\n",
       "      <td>Female</td>\n",
       "      <td>1200</td>\n",
       "      <td>33</td>\n",
       "      <td>Chicago</td>\n",
       "      <td>82.5</td>\n",
       "      <td>Ford</td>\n",
       "      <td>No</td>\n",
       "    </tr>\n",
       "    <tr>\n",
       "      <th>2</th>\n",
       "      <td>Male</td>\n",
       "      <td>2200</td>\n",
       "      <td>34</td>\n",
       "      <td>New York</td>\n",
       "      <td>100.8</td>\n",
       "      <td>BMW</td>\n",
       "      <td>Bachelor</td>\n",
       "    </tr>\n",
       "    <tr>\n",
       "      <th>3</th>\n",
       "      <td>Male</td>\n",
       "      <td>2100</td>\n",
       "      <td>42</td>\n",
       "      <td>New York</td>\n",
       "      <td>90.0</td>\n",
       "      <td>BMW</td>\n",
       "      <td>Master</td>\n",
       "    </tr>\n",
       "    <tr>\n",
       "      <th>4</th>\n",
       "      <td>Female</td>\n",
       "      <td>1500</td>\n",
       "      <td>29</td>\n",
       "      <td>Chicago</td>\n",
       "      <td>67.0</td>\n",
       "      <td>Ford</td>\n",
       "      <td>Master</td>\n",
       "    </tr>\n",
       "    <tr>\n",
       "      <th>5</th>\n",
       "      <td>Female</td>\n",
       "      <td>1700</td>\n",
       "      <td>42</td>\n",
       "      <td>Washington</td>\n",
       "      <td>60.0</td>\n",
       "      <td>Ford</td>\n",
       "      <td>Master</td>\n",
       "    </tr>\n",
       "    <tr>\n",
       "      <th>6</th>\n",
       "      <td>Male</td>\n",
       "      <td>3000</td>\n",
       "      <td>50</td>\n",
       "      <td>Washington</td>\n",
       "      <td>77.0</td>\n",
       "      <td>Ford</td>\n",
       "      <td>No</td>\n",
       "    </tr>\n",
       "    <tr>\n",
       "      <th>7</th>\n",
       "      <td>Male</td>\n",
       "      <td>3000</td>\n",
       "      <td>55</td>\n",
       "      <td>Washington</td>\n",
       "      <td>77.0</td>\n",
       "      <td>Ford</td>\n",
       "      <td>Bachelor</td>\n",
       "    </tr>\n",
       "    <tr>\n",
       "      <th>8</th>\n",
       "      <td>Female</td>\n",
       "      <td>2800</td>\n",
       "      <td>31</td>\n",
       "      <td>New York</td>\n",
       "      <td>87.0</td>\n",
       "      <td>Ford</td>\n",
       "      <td>Bachelor</td>\n",
       "    </tr>\n",
       "    <tr>\n",
       "      <th>9</th>\n",
       "      <td>Male</td>\n",
       "      <td>2900</td>\n",
       "      <td>46</td>\n",
       "      <td>New York</td>\n",
       "      <td>70.0</td>\n",
       "      <td>GM</td>\n",
       "      <td>Master</td>\n",
       "    </tr>\n",
       "    <tr>\n",
       "      <th>10</th>\n",
       "      <td>Female</td>\n",
       "      <td>2780</td>\n",
       "      <td>36</td>\n",
       "      <td>Washington</td>\n",
       "      <td>57.0</td>\n",
       "      <td>BMW</td>\n",
       "      <td>No</td>\n",
       "    </tr>\n",
       "    <tr>\n",
       "      <th>11</th>\n",
       "      <td>Male</td>\n",
       "      <td>2550</td>\n",
       "      <td>48</td>\n",
       "      <td>New York</td>\n",
       "      <td>64.0</td>\n",
       "      <td>GM</td>\n",
       "      <td>Master</td>\n",
       "    </tr>\n",
       "  </tbody>\n",
       "</table>\n",
       "</div>"
      ],
      "text/plain": [
       "    Gender  Salary  Age       Place  Weight Company Academic_degree\n",
       "0   Female    1500   33     Chicago    80.0     BMW        Bachelor\n",
       "1   Female    1200   33     Chicago    82.5    Ford              No\n",
       "2     Male    2200   34    New York   100.8     BMW        Bachelor\n",
       "3     Male    2100   42    New York    90.0     BMW          Master\n",
       "4   Female    1500   29     Chicago    67.0    Ford          Master\n",
       "5   Female    1700   42  Washington    60.0    Ford          Master\n",
       "6     Male    3000   50  Washington    77.0    Ford              No\n",
       "7     Male    3000   55  Washington    77.0    Ford        Bachelor\n",
       "8   Female    2800   31    New York    87.0    Ford        Bachelor\n",
       "9     Male    2900   46    New York    70.0      GM          Master\n",
       "10  Female    2780   36  Washington    57.0     BMW              No\n",
       "11    Male    2550   48    New York    64.0      GM          Master"
      ]
     },
     "execution_count": 3,
     "metadata": {},
     "output_type": "execute_result"
    }
   ],
   "source": [
    "df = pd.read_csv('reg_data.csv')\n",
    "df"
   ]
  },
  {
   "cell_type": "code",
   "execution_count": 4,
   "id": "c8ff40a7-ffee-42b6-a0c4-f2e430c0103c",
   "metadata": {},
   "outputs": [
    {
     "data": {
      "text/plain": [
       "Index(['Gender', 'Salary', 'Age', 'Place', 'Weight', 'Company',\n",
       "       'Academic_degree'],\n",
       "      dtype='object')"
      ]
     },
     "execution_count": 4,
     "metadata": {},
     "output_type": "execute_result"
    }
   ],
   "source": [
    "df.columns"
   ]
  },
  {
   "cell_type": "markdown",
   "id": "e3f68cda-77c8-47d5-891f-a242b77780c9",
   "metadata": {},
   "source": [
    "# Introducción\n",
    "Esta es una base de datos que explica el salario de 12 personas de diferentes personas\n",
    "\n",
    "## Mis variables de interés\n",
    "* 'Gender': Variable CATEGÓRICA con dos categorías que explica el género de los empleados\n",
    "* 'Salary': [...]\n",
    "* 'Age': [...]\n",
    "* 'Academic degree': [...]"
   ]
  },
  {
   "cell_type": "markdown",
   "id": "0e1856c2-b0ca-489a-88c5-35bdae2b4e4d",
   "metadata": {},
   "source": [
    "# Pregunta de investigación 1\n",
    "### ¿Cuál es el impacto de Age en Salary?\n",
    "\n",
    "Función base: \n",
    "Salary = b0 + b1*Age"
   ]
  },
  {
   "cell_type": "code",
   "execution_count": 5,
   "id": "ad1a25ba-5786-411d-8e3d-adfa0ec692db",
   "metadata": {},
   "outputs": [],
   "source": [
    "#pip install sklearn"
   ]
  },
  {
   "cell_type": "code",
   "execution_count": 6,
   "id": "f7351270-84ca-469f-aec6-e00f1efd6560",
   "metadata": {},
   "outputs": [],
   "source": [
    "#pip install statsmodels"
   ]
  },
  {
   "cell_type": "code",
   "execution_count": 7,
   "id": "fe176e92-da3b-4865-ae5d-37479caf6743",
   "metadata": {},
   "outputs": [],
   "source": [
    "#pip install seaborn"
   ]
  },
  {
   "cell_type": "code",
   "execution_count": 8,
   "id": "bfcdf811-d291-4385-9686-689f5159c5ba",
   "metadata": {},
   "outputs": [],
   "source": [
    "import matplotlib.pyplot as plt\n",
    "import seaborn as sns\n",
    "import statsmodels.api as sm\n",
    "import numpy as np\n",
    "from sklearn import linear_model"
   ]
  },
  {
   "cell_type": "code",
   "execution_count": 9,
   "id": "75e59a3a-7bde-44a0-8b52-a897fd9b80d7",
   "metadata": {},
   "outputs": [
    {
     "name": "stderr",
     "output_type": "stream",
     "text": [
      "/srv/conda/envs/notebook/lib/python3.7/site-packages/scipy/stats/stats.py:1535: UserWarning: kurtosistest only valid for n>=20 ... continuing anyway, n=12\n",
      "  \"anyway, n=%i\" % int(n))\n"
     ]
    },
    {
     "data": {
      "text/html": [
       "<table class=\"simpletable\">\n",
       "<caption>OLS Regression Results</caption>\n",
       "<tr>\n",
       "  <th>Dep. Variable:</th>         <td>Salary</td>      <th>  R-squared:         </th> <td>   0.380</td>\n",
       "</tr>\n",
       "<tr>\n",
       "  <th>Model:</th>                   <td>OLS</td>       <th>  Adj. R-squared:    </th> <td>   0.319</td>\n",
       "</tr>\n",
       "<tr>\n",
       "  <th>Method:</th>             <td>Least Squares</td>  <th>  F-statistic:       </th> <td>   6.142</td>\n",
       "</tr>\n",
       "<tr>\n",
       "  <th>Date:</th>             <td>Tue, 30 Nov 2021</td> <th>  Prob (F-statistic):</th>  <td>0.0326</td> \n",
       "</tr>\n",
       "<tr>\n",
       "  <th>Time:</th>                 <td>14:19:30</td>     <th>  Log-Likelihood:    </th> <td> -91.514</td>\n",
       "</tr>\n",
       "<tr>\n",
       "  <th>No. Observations:</th>      <td>    12</td>      <th>  AIC:               </th> <td>   187.0</td>\n",
       "</tr>\n",
       "<tr>\n",
       "  <th>Df Residuals:</th>          <td>    10</td>      <th>  BIC:               </th> <td>   188.0</td>\n",
       "</tr>\n",
       "<tr>\n",
       "  <th>Df Model:</th>              <td>     1</td>      <th>                     </th>     <td> </td>   \n",
       "</tr>\n",
       "<tr>\n",
       "  <th>Covariance Type:</th>      <td>nonrobust</td>    <th>                     </th>     <td> </td>   \n",
       "</tr>\n",
       "</table>\n",
       "<table class=\"simpletable\">\n",
       "<tr>\n",
       "      <td></td>         <th>coef</th>     <th>std err</th>      <th>t</th>      <th>P>|t|</th>  <th>[0.025</th>    <th>0.975]</th>  \n",
       "</tr>\n",
       "<tr>\n",
       "  <th>Intercept</th> <td>  349.4458</td> <td>  790.373</td> <td>    0.442</td> <td> 0.668</td> <td>-1411.614</td> <td> 2110.506</td>\n",
       "</tr>\n",
       "<tr>\n",
       "  <th>Age</th>       <td>   48.0932</td> <td>   19.406</td> <td>    2.478</td> <td> 0.033</td> <td>    4.853</td> <td>   91.333</td>\n",
       "</tr>\n",
       "</table>\n",
       "<table class=\"simpletable\">\n",
       "<tr>\n",
       "  <th>Omnibus:</th>       <td> 0.406</td> <th>  Durbin-Watson:     </th> <td>   1.484</td>\n",
       "</tr>\n",
       "<tr>\n",
       "  <th>Prob(Omnibus):</th> <td> 0.816</td> <th>  Jarque-Bera (JB):  </th> <td>   0.479</td>\n",
       "</tr>\n",
       "<tr>\n",
       "  <th>Skew:</th>          <td> 0.321</td> <th>  Prob(JB):          </th> <td>   0.787</td>\n",
       "</tr>\n",
       "<tr>\n",
       "  <th>Kurtosis:</th>      <td> 2.261</td> <th>  Cond. No.          </th> <td>    205.</td>\n",
       "</tr>\n",
       "</table><br/><br/>Notes:<br/>[1] Standard Errors assume that the covariance matrix of the errors is correctly specified."
      ],
      "text/plain": [
       "<class 'statsmodels.iolib.summary.Summary'>\n",
       "\"\"\"\n",
       "                            OLS Regression Results                            \n",
       "==============================================================================\n",
       "Dep. Variable:                 Salary   R-squared:                       0.380\n",
       "Model:                            OLS   Adj. R-squared:                  0.319\n",
       "Method:                 Least Squares   F-statistic:                     6.142\n",
       "Date:                Tue, 30 Nov 2021   Prob (F-statistic):             0.0326\n",
       "Time:                        14:19:30   Log-Likelihood:                -91.514\n",
       "No. Observations:                  12   AIC:                             187.0\n",
       "Df Residuals:                      10   BIC:                             188.0\n",
       "Df Model:                           1                                         \n",
       "Covariance Type:            nonrobust                                         \n",
       "==============================================================================\n",
       "                 coef    std err          t      P>|t|      [0.025      0.975]\n",
       "------------------------------------------------------------------------------\n",
       "Intercept    349.4458    790.373      0.442      0.668   -1411.614    2110.506\n",
       "Age           48.0932     19.406      2.478      0.033       4.853      91.333\n",
       "==============================================================================\n",
       "Omnibus:                        0.406   Durbin-Watson:                   1.484\n",
       "Prob(Omnibus):                  0.816   Jarque-Bera (JB):                0.479\n",
       "Skew:                           0.321   Prob(JB):                        0.787\n",
       "Kurtosis:                       2.261   Cond. No.                         205.\n",
       "==============================================================================\n",
       "\n",
       "Notes:\n",
       "[1] Standard Errors assume that the covariance matrix of the errors is correctly specified.\n",
       "\"\"\""
      ]
     },
     "execution_count": 9,
     "metadata": {},
     "output_type": "execute_result"
    }
   ],
   "source": [
    "modelA = sm.OLS.from_formula('Salary~Age', data = df)\n",
    "resultA = modelA.fit()\n",
    "resultA.summary()"
   ]
  },
  {
   "cell_type": "markdown",
   "id": "58a550de-d258-453c-a04c-b02b409cf9d3",
   "metadata": {},
   "source": [
    "### Observaciones:\n",
    "* Variable dependiente: Salary\n",
    "* Variable independiente: Age\n",
    "* R-squared: 0.380; el modelo es poco confiable\n",
    "* DF: 1\n",
    "* Intercept: es >0.05 así que no es significativo\n",
    "* Age: es <0.05 así que es significativa\n",
    "\n",
    "    Nuestra ecuación es: Salary = 349.4458 + 48.0932*Age\n",
    "\n"
   ]
  },
  {
   "cell_type": "code",
   "execution_count": 10,
   "id": "d11d6604-b6c8-4f99-8fd6-a8e116926edc",
   "metadata": {},
   "outputs": [
    {
     "name": "stdout",
     "output_type": "stream",
     "text": [
      "El salario de una persona de 33:\t 1936.5214\n"
     ]
    },
    {
     "data": {
      "text/html": [
       "<div>\n",
       "<style scoped>\n",
       "    .dataframe tbody tr th:only-of-type {\n",
       "        vertical-align: middle;\n",
       "    }\n",
       "\n",
       "    .dataframe tbody tr th {\n",
       "        vertical-align: top;\n",
       "    }\n",
       "\n",
       "    .dataframe thead th {\n",
       "        text-align: right;\n",
       "    }\n",
       "</style>\n",
       "<table border=\"1\" class=\"dataframe\">\n",
       "  <thead>\n",
       "    <tr style=\"text-align: right;\">\n",
       "      <th></th>\n",
       "      <th>Gender</th>\n",
       "      <th>Salary</th>\n",
       "      <th>Age</th>\n",
       "      <th>Place</th>\n",
       "      <th>Weight</th>\n",
       "      <th>Company</th>\n",
       "      <th>Academic_degree</th>\n",
       "    </tr>\n",
       "  </thead>\n",
       "  <tbody>\n",
       "    <tr>\n",
       "      <th>0</th>\n",
       "      <td>Female</td>\n",
       "      <td>1500</td>\n",
       "      <td>33</td>\n",
       "      <td>Chicago</td>\n",
       "      <td>80.0</td>\n",
       "      <td>BMW</td>\n",
       "      <td>Bachelor</td>\n",
       "    </tr>\n",
       "    <tr>\n",
       "      <th>1</th>\n",
       "      <td>Female</td>\n",
       "      <td>1200</td>\n",
       "      <td>33</td>\n",
       "      <td>Chicago</td>\n",
       "      <td>82.5</td>\n",
       "      <td>Ford</td>\n",
       "      <td>No</td>\n",
       "    </tr>\n",
       "  </tbody>\n",
       "</table>\n",
       "</div>"
      ],
      "text/plain": [
       "   Gender  Salary  Age    Place  Weight Company Academic_degree\n",
       "0  Female    1500   33  Chicago    80.0     BMW        Bachelor\n",
       "1  Female    1200   33  Chicago    82.5    Ford              No"
      ]
     },
     "execution_count": 10,
     "metadata": {},
     "output_type": "execute_result"
    }
   ],
   "source": [
    "print('El salario de una persona de 33:\\t', 349.4458+48.0932*33)\n",
    "df.iloc[:2, :]"
   ]
  },
  {
   "cell_type": "code",
   "execution_count": 11,
   "id": "c25d2df8-69f0-4ece-8d81-e7567d8650a5",
   "metadata": {},
   "outputs": [
    {
     "name": "stdout",
     "output_type": "stream",
     "text": [
      "La diferencia es: \t -436.5214000000001\n",
      "La diferencia es: \t -736.5214000000001\n"
     ]
    },
    {
     "data": {
      "text/plain": [
       "0    -436.521924\n",
       "1    -736.521924\n",
       "2     215.384860\n",
       "3    -269.360866\n",
       "4    -244.149060\n",
       "5    -669.360866\n",
       "6     245.893407\n",
       "7       5.427328\n",
       "8     959.664508\n",
       "9     338.266270\n",
       "10    699.198429\n",
       "11   -107.920161\n",
       "dtype: float64"
      ]
     },
     "execution_count": 11,
     "metadata": {},
     "output_type": "execute_result"
    }
   ],
   "source": [
    "print('La diferencia es: \\t', 1500-1936.5214)\n",
    "print('La diferencia es: \\t', 1200-1936.5214)\n",
    "resultA.resid"
   ]
  },
  {
   "cell_type": "code",
   "execution_count": 12,
   "id": "c19cc47c-1eb6-4ca0-8e2f-8bfc7bcab08a",
   "metadata": {},
   "outputs": [
    {
     "data": {
      "image/png": "[encoded data removed]",
      "text/plain": [
       "<Figure size 1080x720 with 1 Axes>"
      ]
     },
     "metadata": {
      "needs_background": "light"
     },
     "output_type": "display_data"
    }
   ],
   "source": [
    "plt.figure(figsize = (15,10))\n",
    "sns.set(font_scale = 1.7)\n",
    "\n",
    "reg_plot = sns.regplot(x = 'Age',\n",
    "            y = 'Salary',\n",
    "            data = df,\n",
    "            color = 'red',\n",
    "            marker = '+')\n",
    "\n",
    "reg_plot.set_title('Regresión de Salary y Age', fontsize = 15)\n",
    "reg_plot.text(40, 1500, 'Salary = 349.4458 + 48.0932',\n",
    "              color = 'red',\n",
    "              weight = 'semibold',\n",
    "              size = 'medium')\n",
    "\n",
    "plt.show()"
   ]
  },
  {
   "cell_type": "code",
   "execution_count": 13,
   "id": "0cdf07ba-37d2-478f-bc53-43afd186e1af",
   "metadata": {},
   "outputs": [
    {
     "data": {
      "text/plain": [
       "0    -436.521924\n",
       "1    -736.521924\n",
       "2     215.384860\n",
       "3    -269.360866\n",
       "4    -244.149060\n",
       "5    -669.360866\n",
       "6     245.893407\n",
       "7       5.427328\n",
       "8     959.664508\n",
       "9     338.266270\n",
       "10    699.198429\n",
       "11   -107.920161\n",
       "dtype: float64"
      ]
     },
     "execution_count": 13,
     "metadata": {},
     "output_type": "execute_result"
    }
   ],
   "source": [
    "#Graficar residuales\n",
    "RESIA = resultA.resid\n",
    "RESIA"
   ]
  },
  {
   "cell_type": "code",
   "execution_count": 14,
   "id": "a24de51e-4f46-407e-ab7a-519284e830a2",
   "metadata": {},
   "outputs": [
    {
     "data": {
      "image/png": "[encoded data removed]",
      "text/plain": [
       "<Figure size 720x360 with 1 Axes>"
      ]
     },
     "metadata": {},
     "output_type": "display_data"
    }
   ],
   "source": [
    "plt.figure(figsize = (10,5))\n",
    "\n",
    "resi_plot = sns.scatterplot(x = resultA.fittedvalues,\n",
    "                            y = RESIA)\n",
    "\n",
    "plt.show()"
   ]
  },
  {
   "cell_type": "markdown",
   "id": "61b86f29-e77b-461f-9270-d602e74b1fff",
   "metadata": {},
   "source": [
    "### Observaciones\n",
    "Si la miras desde el eje Y se observa que se distribuyen normalmente y que tienen una tendencia"
   ]
  },
  {
   "cell_type": "markdown",
   "id": "bcec74dd-096d-459b-a2d8-2a12a78964e1",
   "metadata": {},
   "source": [
    "# Pregunta de investigación 2:\n",
    "## ¿Cuál es el impacto de Age y Gender en Salary?\n",
    "\n",
    "Función base: Salary = b0 + b1*Age + b2*Gender"
   ]
  },
  {
   "cell_type": "code",
   "execution_count": 15,
   "id": "41ae30af-a603-47e4-9bf1-2e9d5812c182",
   "metadata": {},
   "outputs": [
    {
     "name": "stderr",
     "output_type": "stream",
     "text": [
      "/srv/conda/envs/notebook/lib/python3.7/site-packages/scipy/stats/stats.py:1535: UserWarning: kurtosistest only valid for n>=20 ... continuing anyway, n=12\n",
      "  \"anyway, n=%i\" % int(n))\n"
     ]
    },
    {
     "data": {
      "text/html": [
       "<table class=\"simpletable\">\n",
       "<caption>OLS Regression Results</caption>\n",
       "<tr>\n",
       "  <th>Dep. Variable:</th>         <td>Salary</td>      <th>  R-squared:         </th> <td>   0.408</td>\n",
       "</tr>\n",
       "<tr>\n",
       "  <th>Model:</th>                   <td>OLS</td>       <th>  Adj. R-squared:    </th> <td>   0.276</td>\n",
       "</tr>\n",
       "<tr>\n",
       "  <th>Method:</th>             <td>Least Squares</td>  <th>  F-statistic:       </th> <td>   3.101</td>\n",
       "</tr>\n",
       "<tr>\n",
       "  <th>Date:</th>             <td>Tue, 30 Nov 2021</td> <th>  Prob (F-statistic):</th>  <td>0.0945</td> \n",
       "</tr>\n",
       "<tr>\n",
       "  <th>Time:</th>                 <td>14:19:31</td>     <th>  Log-Likelihood:    </th> <td> -91.242</td>\n",
       "</tr>\n",
       "<tr>\n",
       "  <th>No. Observations:</th>      <td>    12</td>      <th>  AIC:               </th> <td>   188.5</td>\n",
       "</tr>\n",
       "<tr>\n",
       "  <th>Df Residuals:</th>          <td>     9</td>      <th>  BIC:               </th> <td>   189.9</td>\n",
       "</tr>\n",
       "<tr>\n",
       "  <th>Df Model:</th>              <td>     2</td>      <th>                     </th>     <td> </td>   \n",
       "</tr>\n",
       "<tr>\n",
       "  <th>Covariance Type:</th>      <td>nonrobust</td>    <th>                     </th>     <td> </td>   \n",
       "</tr>\n",
       "</table>\n",
       "<table class=\"simpletable\">\n",
       "<tr>\n",
       "         <td></td>           <th>coef</th>     <th>std err</th>      <th>t</th>      <th>P>|t|</th>  <th>[0.025</th>    <th>0.975]</th>  \n",
       "</tr>\n",
       "<tr>\n",
       "  <th>Intercept</th>      <td>  749.8157</td> <td> 1023.148</td> <td>    0.733</td> <td> 0.482</td> <td>-1564.706</td> <td> 3064.337</td>\n",
       "</tr>\n",
       "<tr>\n",
       "  <th>Gender[T.Male]</th> <td>  306.7169</td> <td>  474.438</td> <td>    0.646</td> <td> 0.534</td> <td> -766.535</td> <td> 1379.969</td>\n",
       "</tr>\n",
       "<tr>\n",
       "  <th>Age</th>            <td>   34.2211</td> <td>   29.331</td> <td>    1.167</td> <td> 0.273</td> <td>  -32.130</td> <td>  100.573</td>\n",
       "</tr>\n",
       "</table>\n",
       "<table class=\"simpletable\">\n",
       "<tr>\n",
       "  <th>Omnibus:</th>       <td> 1.671</td> <th>  Durbin-Watson:     </th> <td>   1.363</td>\n",
       "</tr>\n",
       "<tr>\n",
       "  <th>Prob(Omnibus):</th> <td> 0.434</td> <th>  Jarque-Bera (JB):  </th> <td>   1.061</td>\n",
       "</tr>\n",
       "<tr>\n",
       "  <th>Skew:</th>          <td> 0.691</td> <th>  Prob(JB):          </th> <td>   0.588</td>\n",
       "</tr>\n",
       "<tr>\n",
       "  <th>Kurtosis:</th>      <td> 2.541</td> <th>  Cond. No.          </th> <td>    269.</td>\n",
       "</tr>\n",
       "</table><br/><br/>Notes:<br/>[1] Standard Errors assume that the covariance matrix of the errors is correctly specified."
      ],
      "text/plain": [
       "<class 'statsmodels.iolib.summary.Summary'>\n",
       "\"\"\"\n",
       "                            OLS Regression Results                            \n",
       "==============================================================================\n",
       "Dep. Variable:                 Salary   R-squared:                       0.408\n",
       "Model:                            OLS   Adj. R-squared:                  0.276\n",
       "Method:                 Least Squares   F-statistic:                     3.101\n",
       "Date:                Tue, 30 Nov 2021   Prob (F-statistic):             0.0945\n",
       "Time:                        14:19:31   Log-Likelihood:                -91.242\n",
       "No. Observations:                  12   AIC:                             188.5\n",
       "Df Residuals:                       9   BIC:                             189.9\n",
       "Df Model:                           2                                         \n",
       "Covariance Type:            nonrobust                                         \n",
       "==================================================================================\n",
       "                     coef    std err          t      P>|t|      [0.025      0.975]\n",
       "----------------------------------------------------------------------------------\n",
       "Intercept        749.8157   1023.148      0.733      0.482   -1564.706    3064.337\n",
       "Gender[T.Male]   306.7169    474.438      0.646      0.534    -766.535    1379.969\n",
       "Age               34.2211     29.331      1.167      0.273     -32.130     100.573\n",
       "==============================================================================\n",
       "Omnibus:                        1.671   Durbin-Watson:                   1.363\n",
       "Prob(Omnibus):                  0.434   Jarque-Bera (JB):                1.061\n",
       "Skew:                           0.691   Prob(JB):                        0.588\n",
       "Kurtosis:                       2.541   Cond. No.                         269.\n",
       "==============================================================================\n",
       "\n",
       "Notes:\n",
       "[1] Standard Errors assume that the covariance matrix of the errors is correctly specified.\n",
       "\"\"\""
      ]
     },
     "execution_count": 15,
     "metadata": {},
     "output_type": "execute_result"
    }
   ],
   "source": [
    "modelB = sm.OLS.from_formula('Salary~Age + Gender', data = df)\n",
    "resultB = modelB.fit()\n",
    "resultB.summary()"
   ]
  },
  {
   "cell_type": "markdown",
   "id": "c0827e7a-87dc-42f1-ab31-fbfaac09644f",
   "metadata": {},
   "source": [
    "### Observaciones:\n",
    "* Variable dependiente: Salary\n",
    "* Variable independiente: Age y Gender\n",
    "* R-squared: 0.408; el modelo es poco confiable\n",
    "* DF: 2\n",
    "* Intercept: es >0.05 así que no es significativo\n",
    "* Age: es >0.05 así que no es significativo\n",
    "* Gender: es >0.05 así que no es significativo\n",
    "\n",
    "    Nuestra ecuación es: Salary = 749.8157 + 34.2211*Age + 306.7169*Gender_Male\n",
    "\n",
    "### Case study:\n",
    "DF Model: 2\n",
    "* Age = 33\n",
    "* Gender = Male = True"
   ]
  },
  {
   "cell_type": "code",
   "execution_count": 18,
   "id": "242af986-f229-461f-af6e-5e920c019607",
   "metadata": {},
   "outputs": [
    {
     "name": "stdout",
     "output_type": "stream",
     "text": [
      "Salario de una persona de 33, Male \t 2185.8289\n"
     ]
    }
   ],
   "source": [
    "print('Salario de una persona de 33, Male \\t', 749.8157 + 34.2211*33 + 306.7169*1)"
   ]
  },
  {
   "cell_type": "markdown",
   "id": "8b7183dc-9676-4279-81b3-8f034dd17bc0",
   "metadata": {},
   "source": [
    "### Case study 2:\n",
    "DF Model: 2\n",
    "* Age = 33\n",
    "* Gender = Male = False"
   ]
  },
  {
   "cell_type": "code",
   "execution_count": 19,
   "id": "4367f515-0e5b-47d0-9554-abc106405b1d",
   "metadata": {},
   "outputs": [
    {
     "name": "stdout",
     "output_type": "stream",
     "text": [
      "Salario de una persona de 33, Female \t 1879.112\n"
     ]
    },
    {
     "data": {
      "text/html": [
       "<div>\n",
       "<style scoped>\n",
       "    .dataframe tbody tr th:only-of-type {\n",
       "        vertical-align: middle;\n",
       "    }\n",
       "\n",
       "    .dataframe tbody tr th {\n",
       "        vertical-align: top;\n",
       "    }\n",
       "\n",
       "    .dataframe thead th {\n",
       "        text-align: right;\n",
       "    }\n",
       "</style>\n",
       "<table border=\"1\" class=\"dataframe\">\n",
       "  <thead>\n",
       "    <tr style=\"text-align: right;\">\n",
       "      <th></th>\n",
       "      <th>Gender</th>\n",
       "      <th>Salary</th>\n",
       "      <th>Age</th>\n",
       "      <th>Place</th>\n",
       "      <th>Weight</th>\n",
       "      <th>Company</th>\n",
       "      <th>Academic_degree</th>\n",
       "    </tr>\n",
       "  </thead>\n",
       "  <tbody>\n",
       "    <tr>\n",
       "      <th>0</th>\n",
       "      <td>Female</td>\n",
       "      <td>1500</td>\n",
       "      <td>33</td>\n",
       "      <td>Chicago</td>\n",
       "      <td>80.0</td>\n",
       "      <td>BMW</td>\n",
       "      <td>Bachelor</td>\n",
       "    </tr>\n",
       "    <tr>\n",
       "      <th>1</th>\n",
       "      <td>Female</td>\n",
       "      <td>1200</td>\n",
       "      <td>33</td>\n",
       "      <td>Chicago</td>\n",
       "      <td>82.5</td>\n",
       "      <td>Ford</td>\n",
       "      <td>No</td>\n",
       "    </tr>\n",
       "  </tbody>\n",
       "</table>\n",
       "</div>"
      ],
      "text/plain": [
       "   Gender  Salary  Age    Place  Weight Company Academic_degree\n",
       "0  Female    1500   33  Chicago    80.0     BMW        Bachelor\n",
       "1  Female    1200   33  Chicago    82.5    Ford              No"
      ]
     },
     "execution_count": 19,
     "metadata": {},
     "output_type": "execute_result"
    }
   ],
   "source": [
    "print('Salario de una persona de 33, Female \\t', 749.8157 + 34.2211*33 + 306.7169*0)\n",
    "df.iloc[:2, :]"
   ]
  },
  {
   "cell_type": "code",
   "execution_count": 20,
   "id": "86c147e8-fb93-4cfc-b6f3-2da545c34132",
   "metadata": {},
   "outputs": [
    {
     "data": {
      "text/plain": [
       "0    -379.112228\n",
       "1    -679.112228\n",
       "2     -20.050251\n",
       "3    -393.819095\n",
       "4    -242.227806\n",
       "5    -487.102178\n",
       "6     232.412060\n",
       "7      61.306533\n",
       "8     989.329983\n",
       "9     269.296482\n",
       "10    798.224456\n",
       "11   -149.145729\n",
       "dtype: float64"
      ]
     },
     "execution_count": 20,
     "metadata": {},
     "output_type": "execute_result"
    }
   ],
   "source": [
    "resultB.resid"
   ]
  },
  {
   "cell_type": "markdown",
   "id": "ba7ef0b7-a4b8-4401-80b9-11b46246ba4c",
   "metadata": {},
   "source": [
    "# Pregunta de investigación 3:\n",
    "## ¿Cuál es el impacto de Age, Gender y Academic_degree en Salary?\n",
    "\n",
    "Función base: Salary = b0 + b1*Age + b2*Gender + b3*Academic_degree"
   ]
  },
  {
   "cell_type": "code",
   "execution_count": 22,
   "id": "3856d286-5969-4233-b574-fcc2bceed34a",
   "metadata": {},
   "outputs": [
    {
     "name": "stderr",
     "output_type": "stream",
     "text": [
      "/srv/conda/envs/notebook/lib/python3.7/site-packages/scipy/stats/stats.py:1535: UserWarning: kurtosistest only valid for n>=20 ... continuing anyway, n=12\n",
      "  \"anyway, n=%i\" % int(n))\n"
     ]
    },
    {
     "data": {
      "text/html": [
       "<table class=\"simpletable\">\n",
       "<caption>OLS Regression Results</caption>\n",
       "<tr>\n",
       "  <th>Dep. Variable:</th>         <td>Salary</td>      <th>  R-squared:         </th> <td>   0.483</td>\n",
       "</tr>\n",
       "<tr>\n",
       "  <th>Model:</th>                   <td>OLS</td>       <th>  Adj. R-squared:    </th> <td>   0.188</td>\n",
       "</tr>\n",
       "<tr>\n",
       "  <th>Method:</th>             <td>Least Squares</td>  <th>  F-statistic:       </th> <td>   1.636</td>\n",
       "</tr>\n",
       "<tr>\n",
       "  <th>Date:</th>             <td>Tue, 30 Nov 2021</td> <th>  Prob (F-statistic):</th>  <td> 0.267</td> \n",
       "</tr>\n",
       "<tr>\n",
       "  <th>Time:</th>                 <td>14:23:58</td>     <th>  Log-Likelihood:    </th> <td> -90.426</td>\n",
       "</tr>\n",
       "<tr>\n",
       "  <th>No. Observations:</th>      <td>    12</td>      <th>  AIC:               </th> <td>   190.9</td>\n",
       "</tr>\n",
       "<tr>\n",
       "  <th>Df Residuals:</th>          <td>     7</td>      <th>  BIC:               </th> <td>   193.3</td>\n",
       "</tr>\n",
       "<tr>\n",
       "  <th>Df Model:</th>              <td>     4</td>      <th>                     </th>     <td> </td>   \n",
       "</tr>\n",
       "<tr>\n",
       "  <th>Covariance Type:</th>      <td>nonrobust</td>    <th>                     </th>     <td> </td>   \n",
       "</tr>\n",
       "</table>\n",
       "<table class=\"simpletable\">\n",
       "<tr>\n",
       "              <td></td>                 <th>coef</th>     <th>std err</th>      <th>t</th>      <th>P>|t|</th>  <th>[0.025</th>    <th>0.975]</th>  \n",
       "</tr>\n",
       "<tr>\n",
       "  <th>Intercept</th>                 <td>  815.5485</td> <td> 1086.544</td> <td>    0.751</td> <td> 0.477</td> <td>-1753.721</td> <td> 3384.818</td>\n",
       "</tr>\n",
       "<tr>\n",
       "  <th>Gender[T.Male]</th>            <td>  336.1028</td> <td>  521.798</td> <td>    0.644</td> <td> 0.540</td> <td> -897.752</td> <td> 1569.958</td>\n",
       "</tr>\n",
       "<tr>\n",
       "  <th>Academic_degree[T.Master]</th> <td> -373.1962</td> <td>  404.490</td> <td>   -0.923</td> <td> 0.387</td> <td>-1329.664</td> <td>  583.271</td>\n",
       "</tr>\n",
       "<tr>\n",
       "  <th>Academic_degree[T.No]</th>     <td>  -43.8495</td> <td>  470.054</td> <td>   -0.093</td> <td> 0.928</td> <td>-1155.350</td> <td> 1067.651</td>\n",
       "</tr>\n",
       "<tr>\n",
       "  <th>Age</th>                       <td>   36.3765</td> <td>   31.992</td> <td>    1.137</td> <td> 0.293</td> <td>  -39.272</td> <td>  112.025</td>\n",
       "</tr>\n",
       "</table>\n",
       "<table class=\"simpletable\">\n",
       "<tr>\n",
       "  <th>Omnibus:</th>       <td> 0.521</td> <th>  Durbin-Watson:     </th> <td>   0.971</td>\n",
       "</tr>\n",
       "<tr>\n",
       "  <th>Prob(Omnibus):</th> <td> 0.771</td> <th>  Jarque-Bera (JB):  </th> <td>   0.427</td>\n",
       "</tr>\n",
       "<tr>\n",
       "  <th>Skew:</th>          <td> 0.379</td> <th>  Prob(JB):          </th> <td>   0.808</td>\n",
       "</tr>\n",
       "<tr>\n",
       "  <th>Kurtosis:</th>      <td> 2.472</td> <th>  Cond. No.          </th> <td>    271.</td>\n",
       "</tr>\n",
       "</table><br/><br/>Notes:<br/>[1] Standard Errors assume that the covariance matrix of the errors is correctly specified."
      ],
      "text/plain": [
       "<class 'statsmodels.iolib.summary.Summary'>\n",
       "\"\"\"\n",
       "                            OLS Regression Results                            \n",
       "==============================================================================\n",
       "Dep. Variable:                 Salary   R-squared:                       0.483\n",
       "Model:                            OLS   Adj. R-squared:                  0.188\n",
       "Method:                 Least Squares   F-statistic:                     1.636\n",
       "Date:                Tue, 30 Nov 2021   Prob (F-statistic):              0.267\n",
       "Time:                        14:23:58   Log-Likelihood:                -90.426\n",
       "No. Observations:                  12   AIC:                             190.9\n",
       "Df Residuals:                       7   BIC:                             193.3\n",
       "Df Model:                           4                                         \n",
       "Covariance Type:            nonrobust                                         \n",
       "=============================================================================================\n",
       "                                coef    std err          t      P>|t|      [0.025      0.975]\n",
       "---------------------------------------------------------------------------------------------\n",
       "Intercept                   815.5485   1086.544      0.751      0.477   -1753.721    3384.818\n",
       "Gender[T.Male]              336.1028    521.798      0.644      0.540    -897.752    1569.958\n",
       "Academic_degree[T.Master]  -373.1962    404.490     -0.923      0.387   -1329.664     583.271\n",
       "Academic_degree[T.No]       -43.8495    470.054     -0.093      0.928   -1155.350    1067.651\n",
       "Age                          36.3765     31.992      1.137      0.293     -39.272     112.025\n",
       "==============================================================================\n",
       "Omnibus:                        0.521   Durbin-Watson:                   0.971\n",
       "Prob(Omnibus):                  0.771   Jarque-Bera (JB):                0.427\n",
       "Skew:                           0.379   Prob(JB):                        0.808\n",
       "Kurtosis:                       2.472   Cond. No.                         271.\n",
       "==============================================================================\n",
       "\n",
       "Notes:\n",
       "[1] Standard Errors assume that the covariance matrix of the errors is correctly specified.\n",
       "\"\"\""
      ]
     },
     "execution_count": 22,
     "metadata": {},
     "output_type": "execute_result"
    }
   ],
   "source": [
    "modelC = sm.OLS.from_formula('Salary~Age + Gender + Academic_degree', data = df)\n",
    "resultC = modelC.fit()\n",
    "resultC.summary()"
   ]
  },
  {
   "cell_type": "markdown",
   "id": "712ceea5-51a1-451b-931a-96fad5a64a32",
   "metadata": {},
   "source": [
    "### Observaciones:\n",
    "* Variable dependiente: Salary\n",
    "* Variable independiente: Age, Gender y Academic_degree\n",
    "* R-squared: 0.483; el modelo es mas confiable\n",
    "* DF: 4\n",
    "\n",
    "    Nuestra ecuación es: Salary = 815.5485 + 36.3765*Age + 336.1028*Gender_Male - 373.1962*AcademicDegree_Master - 43.8495*AcademicDegree_No\n",
    "\n",
    "### Case study:\n",
    "DF Model: 4\n",
    "* Age = 48\n",
    "* Gender = Male = True\n",
    "* AcademicDegree = Master = True\n",
    "* AcademicDegree = No = False"
   ]
  },
  {
   "cell_type": "code",
   "execution_count": 23,
   "id": "efa812f1-cecf-4d93-acbd-f0ea005a7d5b",
   "metadata": {},
   "outputs": [
    {
     "name": "stdout",
     "output_type": "stream",
     "text": [
      "Salario de una persona de 48, Male \t 2524.5271000000002\n"
     ]
    },
    {
     "data": {
      "text/html": [
       "<div>\n",
       "<style scoped>\n",
       "    .dataframe tbody tr th:only-of-type {\n",
       "        vertical-align: middle;\n",
       "    }\n",
       "\n",
       "    .dataframe tbody tr th {\n",
       "        vertical-align: top;\n",
       "    }\n",
       "\n",
       "    .dataframe thead th {\n",
       "        text-align: right;\n",
       "    }\n",
       "</style>\n",
       "<table border=\"1\" class=\"dataframe\">\n",
       "  <thead>\n",
       "    <tr style=\"text-align: right;\">\n",
       "      <th></th>\n",
       "      <th>Gender</th>\n",
       "      <th>Salary</th>\n",
       "      <th>Age</th>\n",
       "      <th>Place</th>\n",
       "      <th>Weight</th>\n",
       "      <th>Company</th>\n",
       "      <th>Academic_degree</th>\n",
       "    </tr>\n",
       "  </thead>\n",
       "  <tbody>\n",
       "    <tr>\n",
       "      <th>11</th>\n",
       "      <td>Male</td>\n",
       "      <td>2550</td>\n",
       "      <td>48</td>\n",
       "      <td>New York</td>\n",
       "      <td>64.0</td>\n",
       "      <td>GM</td>\n",
       "      <td>Master</td>\n",
       "    </tr>\n",
       "  </tbody>\n",
       "</table>\n",
       "</div>"
      ],
      "text/plain": [
       "   Gender  Salary  Age     Place  Weight Company Academic_degree\n",
       "11   Male    2550   48  New York    64.0      GM          Master"
      ]
     },
     "execution_count": 23,
     "metadata": {},
     "output_type": "execute_result"
    }
   ],
   "source": [
    "print('Salario de una persona de 48, Male \\t', 815.5485 + 36.3765*48 + 336.1028*1 - 373.1962*1 - 43.8495*0)\n",
    "df.iloc[-1:, :] #Esto es pa revisar"
   ]
  },
  {
   "cell_type": "code",
   "execution_count": 30,
   "id": "b6739c9f-1662-4973-a222-47d5a2ef0029",
   "metadata": {},
   "outputs": [
    {
     "name": "stdout",
     "output_type": "stream",
     "text": [
      "Salario de una persona de 33, Female \t 2015.973\n"
     ]
    },
    {
     "data": {
      "text/html": [
       "<div>\n",
       "<style scoped>\n",
       "    .dataframe tbody tr th:only-of-type {\n",
       "        vertical-align: middle;\n",
       "    }\n",
       "\n",
       "    .dataframe tbody tr th {\n",
       "        vertical-align: top;\n",
       "    }\n",
       "\n",
       "    .dataframe thead th {\n",
       "        text-align: right;\n",
       "    }\n",
       "</style>\n",
       "<table border=\"1\" class=\"dataframe\">\n",
       "  <thead>\n",
       "    <tr style=\"text-align: right;\">\n",
       "      <th></th>\n",
       "      <th>Gender</th>\n",
       "      <th>Salary</th>\n",
       "      <th>Age</th>\n",
       "      <th>Place</th>\n",
       "      <th>Weight</th>\n",
       "      <th>Company</th>\n",
       "      <th>Academic_degree</th>\n",
       "    </tr>\n",
       "  </thead>\n",
       "  <tbody>\n",
       "    <tr>\n",
       "      <th>0</th>\n",
       "      <td>Female</td>\n",
       "      <td>1500</td>\n",
       "      <td>33</td>\n",
       "      <td>Chicago</td>\n",
       "      <td>80.0</td>\n",
       "      <td>BMW</td>\n",
       "      <td>Bachelor</td>\n",
       "    </tr>\n",
       "  </tbody>\n",
       "</table>\n",
       "</div>"
      ],
      "text/plain": [
       "   Gender  Salary  Age    Place  Weight Company Academic_degree\n",
       "0  Female    1500   33  Chicago    80.0     BMW        Bachelor"
      ]
     },
     "execution_count": 30,
     "metadata": {},
     "output_type": "execute_result"
    }
   ],
   "source": [
    "print('Salario de una persona de 33, Female \\t', 815.5485 + 36.3765*33 + 336.1028*0 - 373.1962*0 - 43.8495*0)\n",
    "df.iloc[:1, :] #Esto es pa revisar"
   ]
  },
  {
   "cell_type": "code",
   "execution_count": 31,
   "id": "f8e9368e-8cd3-47bf-a543-c4c2702a3af8",
   "metadata": {},
   "outputs": [
    {
     "data": {
      "text/plain": [
       "0    -515.972096\n",
       "1    -772.122563\n",
       "2    -188.451404\n",
       "3    -206.267018\n",
       "4       2.729975\n",
       "5    -270.164184\n",
       "6      73.374548\n",
       "7    -152.357353\n",
       "8     856.780852\n",
       "9     448.227087\n",
       "10    698.748015\n",
       "11     25.474139\n",
       "dtype: float64"
      ]
     },
     "execution_count": 31,
     "metadata": {},
     "output_type": "execute_result"
    }
   ],
   "source": [
    "resultC.resid"
   ]
  },
  {
   "cell_type": "code",
   "execution_count": null,
   "id": "34f2af81-e4d9-443b-aaff-c30504dc3754",
   "metadata": {},
   "outputs": [],
   "source": []
  }
 ],
 "metadata": {
  "kernelspec": {
   "display_name": "Python 3 (ipykernel)",
   "language": "python",
   "name": "python3"
  },
  "language_info": {
   "codemirror_mode": {
    "name": "ipython",
    "version": 3
   },
   "file_extension": ".py",
   "mimetype": "text/x-python",
   "name": "python",
   "nbconvert_exporter": "python",
   "pygments_lexer": "ipython3",
   "version": "3.7.12"
  }
 },
 "nbformat": 4,
 "nbformat_minor": 5
}
